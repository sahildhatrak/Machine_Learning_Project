{
 "cells": [
  {
   "cell_type": "markdown",
   "metadata": {},
   "source": [
    "# Sentiment Analysis of E-Commerce Reviews using Machine Learning\n",
    "# By Sahil Dhatrak"
   ]
  },
  {
   "cell_type": "code",
   "execution_count": 4,
   "metadata": {},
   "outputs": [],
   "source": [
    "import pandas as pd\n",
    "import matplotlib.pyplot as plt\n",
    "import numpy as np\n",
    "import seaborn as sb\n",
    "import math\n",
    "import warnings\n",
    "\n",
    "warnings.filterwarnings('ignore')\n",
    "pd.set_option('display.expand_frame_repr', False)\n",
    "sb.set_style(\"whitegrid\") \n",
    "%matplotlib inline \n",
    "np.random.seed(7)"
   ]
  },
  {
   "cell_type": "markdown",
   "metadata": {},
   "source": [
    "### Loading the reviews file consisting 30,000 reviews extracted from Amazon"
   ]
  },
  {
   "cell_type": "code",
   "execution_count": 6,
   "metadata": {},
   "outputs": [
    {
     "data": {
      "text/html": [
       "<div>\n",
       "<style scoped>\n",
       "    .dataframe tbody tr th:only-of-type {\n",
       "        vertical-align: middle;\n",
       "    }\n",
       "\n",
       "    .dataframe tbody tr th {\n",
       "        vertical-align: top;\n",
       "    }\n",
       "\n",
       "    .dataframe thead th {\n",
       "        text-align: right;\n",
       "    }\n",
       "</style>\n",
       "<table border=\"1\" class=\"dataframe\">\n",
       "  <thead>\n",
       "    <tr style=\"text-align: right;\">\n",
       "      <th></th>\n",
       "      <th>reviews.rating</th>\n",
       "      <th>reviews.text</th>\n",
       "    </tr>\n",
       "  </thead>\n",
       "  <tbody>\n",
       "    <tr>\n",
       "      <th>0</th>\n",
       "      <td>5</td>\n",
       "      <td>I have been a Macbook pro user for last 2 year...</td>\n",
       "    </tr>\n",
       "    <tr>\n",
       "      <th>1</th>\n",
       "      <td>1</td>\n",
       "      <td>Writing the review after a two yr usage of mac...</td>\n",
       "    </tr>\n",
       "    <tr>\n",
       "      <th>2</th>\n",
       "      <td>3</td>\n",
       "      <td>\\n\\n\\n\\n\\n\\n\\n\\n  \\n  \\n    I wanted to purcha...</td>\n",
       "    </tr>\n",
       "    <tr>\n",
       "      <th>3</th>\n",
       "      <td>1</td>\n",
       "      <td>Very disappointed by the product quality. Afte...</td>\n",
       "    </tr>\n",
       "    <tr>\n",
       "      <th>4</th>\n",
       "      <td>2</td>\n",
       "      <td>Apple Products are usually good, perform well ...</td>\n",
       "    </tr>\n",
       "    <tr>\n",
       "      <th>5</th>\n",
       "      <td>5</td>\n",
       "      <td>I got this for 52K during Amazon Sale. I can s...</td>\n",
       "    </tr>\n",
       "    <tr>\n",
       "      <th>6</th>\n",
       "      <td>1</td>\n",
       "      <td>Don't buy for the pride or quality advertised....</td>\n",
       "    </tr>\n",
       "    <tr>\n",
       "      <th>7</th>\n",
       "      <td>2</td>\n",
       "      <td>bought in oct 2018 and it broke down in 7 jan ...</td>\n",
       "    </tr>\n",
       "    <tr>\n",
       "      <th>8</th>\n",
       "      <td>1</td>\n",
       "      <td>Not satisfied, purchased on Mar 2018, it was w...</td>\n",
       "    </tr>\n",
       "    <tr>\n",
       "      <th>9</th>\n",
       "      <td>1</td>\n",
       "      <td>\\n\\n\\n\\n\\n\\n\\n\\n  \\n  \\n    charger not workin...</td>\n",
       "    </tr>\n",
       "  </tbody>\n",
       "</table>\n",
       "</div>"
      ],
      "text/plain": [
       "   reviews.rating                                       reviews.text\n",
       "0               5  I have been a Macbook pro user for last 2 year...\n",
       "1               1  Writing the review after a two yr usage of mac...\n",
       "2               3  \\n\\n\\n\\n\\n\\n\\n\\n  \\n  \\n    I wanted to purcha...\n",
       "3               1  Very disappointed by the product quality. Afte...\n",
       "4               2  Apple Products are usually good, perform well ...\n",
       "5               5  I got this for 52K during Amazon Sale. I can s...\n",
       "6               1  Don't buy for the pride or quality advertised....\n",
       "7               2  bought in oct 2018 and it broke down in 7 jan ...\n",
       "8               1  Not satisfied, purchased on Mar 2018, it was w...\n",
       "9               1  \\n\\n\\n\\n\\n\\n\\n\\n  \\n  \\n    charger not workin..."
      ]
     },
     "execution_count": 6,
     "metadata": {},
     "output_type": "execute_result"
    }
   ],
   "source": [
    "data_file = 'reviews_final.csv'\n",
    "data = pd.read_csv(data_file)\n",
    "data.head(10)"
   ]
  },
  {
   "cell_type": "markdown",
   "metadata": {},
   "source": [
    "# Text Filtering"
   ]
  },
  {
   "cell_type": "markdown",
   "metadata": {},
   "source": [
    "### Removing Breaklines"
   ]
  },
  {
   "cell_type": "code",
   "execution_count": 77,
   "metadata": {},
   "outputs": [
    {
     "data": {
      "text/plain": [
       "'\\n\\n\\n\\n\\n\\n\\n\\n  \\n  \\n    I wanted to purchase the product in no cost EMI as what was displayed, but due to amazon internal error I had to purchase it on one go, so bit unsatisfied with amazon. Rest the product was good.\\n  \\n'"
      ]
     },
     "execution_count": 77,
     "metadata": {},
     "output_type": "execute_result"
    }
   ],
   "source": [
    "import re\n",
    "review_1 = list(data['reviews.text'])\n",
    "review_2 = []\n",
    "review_no_breakline = []\n",
    "for c in review_1:\n",
    "    c = re.sub(r'\\n', ' ', c)\n",
    "    review_2.append(c)\n",
    "for c in review_2:\n",
    "    c = re.sub(r'\\r', ' ', c)\n",
    "    review_no_breakline.append(c)\n",
    "\n",
    "review_1[2] #Review before removing breaklines"
   ]
  },
  {
   "cell_type": "code",
   "execution_count": 78,
   "metadata": {},
   "outputs": [
    {
     "data": {
      "text/plain": [
       "'                  I wanted to purchase the product in no cost EMI as what was displayed, but due to amazon internal error I had to purchase it on one go, so bit unsatisfied with amazon. Rest the product was good.    '"
      ]
     },
     "execution_count": 78,
     "metadata": {},
     "output_type": "execute_result"
    }
   ],
   "source": [
    "review_no_breakline[2] #Review after removing breaklines"
   ]
  },
  {
   "cell_type": "markdown",
   "metadata": {},
   "source": [
    "### Removing Hyperlinks"
   ]
  },
  {
   "cell_type": "code",
   "execution_count": 11,
   "metadata": {},
   "outputs": [],
   "source": [
    "review_no_hyperlinks = []\n",
    "for c in review_no_breakline:\n",
    "    urls = re.findall('(http|ftp|https)://([\\w_-]+(?:(?:\\.[\\w_-]+)+))([\\w.,@?^=%&:/~+#-]*[\\w@?^=%&/~+#-])?', c)\n",
    "    if len(urls) == 0:\n",
    "        pass\n",
    "    else:\n",
    "        for url in urls:\n",
    "            for link in url:\n",
    "                c = c.replace(link, '')\n",
    "        c = c.replace(':', '')\n",
    "        c = c.replace('/', '')\n",
    "    review_no_hyperlinks.append(c)"
   ]
  },
  {
   "cell_type": "code",
   "execution_count": 12,
   "metadata": {},
   "outputs": [
    {
     "data": {
      "text/plain": [
       "\"It's amazing..... battery last around 10 -12 hrs.....best laptop for students and coders\""
      ]
     },
     "execution_count": 12,
     "metadata": {},
     "output_type": "execute_result"
    }
   ],
   "source": [
    "review_no_hyperlinks[35]"
   ]
  },
  {
   "cell_type": "markdown",
   "metadata": {},
   "source": [
    "### Removing Numbers"
   ]
  },
  {
   "cell_type": "code",
   "execution_count": 79,
   "metadata": {},
   "outputs": [
    {
     "data": {
      "text/plain": [
       "'Pros:1. Light weight and super fast response time2. Highly optimize which avoids any kind of process lag.3. Beautiful looks and feels like a prime product.4. Long battery life and awesome sound clarity5. Purchased during Amazon sale cost around 52k.Cons:1. Not enough memory2. Limited softwares available3. Operating system is not that user-friendlyProbably one of the best option for 50k+ laptops'"
      ]
     },
     "execution_count": 79,
     "metadata": {},
     "output_type": "execute_result"
    }
   ],
   "source": [
    "review_no_numbers = []\n",
    "for c in review_no_hyperlinks:\n",
    "    c = re.sub(r'\\d+(?:\\.\\d*(?:[eE]\\d+))?', '', c)\n",
    "    review_no_numbers.append(c)\n",
    "    \n",
    "review_no_hyperlinks[38] #Review before removing numbers"
   ]
  },
  {
   "cell_type": "code",
   "execution_count": 80,
   "metadata": {},
   "outputs": [
    {
     "data": {
      "text/plain": [
       "'Pros:. Light weight and super fast response time. Highly optimize which avoids any kind of process lag.. Beautiful looks and feels like a prime product.. Long battery life and awesome sound clarity. Purchased during Amazon sale cost around k.Cons:. Not enough memory. Limited softwares available. Operating system is not that user-friendlyProbably one of the best option for k+ laptops'"
      ]
     },
     "execution_count": 80,
     "metadata": {},
     "output_type": "execute_result"
    }
   ],
   "source": [
    "review_no_numbers[38] #Review after removing numbers"
   ]
  },
  {
   "cell_type": "markdown",
   "metadata": {},
   "source": [
    "### Removing Special Characters"
   ]
  },
  {
   "cell_type": "code",
   "execution_count": 81,
   "metadata": {},
   "outputs": [
    {
     "data": {
      "text/plain": [
       "\"Bought it on th July, stopped working / not turning power on by th Nov. Adding to this disappointment is - Apple's refusal to repair it under warranty stating that there is corrosion in Logic Board. Amazon also did not help. The seller - Appario - does not like to be bothered with it. Sometimes I wonder if buying electronics online is a good idea!\""
      ]
     },
     "execution_count": 81,
     "metadata": {},
     "output_type": "execute_result"
    }
   ],
   "source": [
    "review_no_spec_char = []\n",
    "for c in review_no_numbers:\n",
    "    c = re.sub(r'R\\$', ' ', c)\n",
    "    c = re.sub(r'\\W', ' ', c)\n",
    "    review_no_spec_char.append(c)\n",
    "\n",
    "review_no_numbers[33] #Review before removing special characters"
   ]
  },
  {
   "cell_type": "code",
   "execution_count": 82,
   "metadata": {},
   "outputs": [
    {
     "data": {
      "text/plain": [
       "'Bought it on th July  stopped working   not turning power on by th Nov  Adding to this disappointment is   Apple s refusal to repair it under warranty stating that there is corrosion in Logic Board  Amazon also did not help  The seller   Appario   does not like to be bothered with it  Sometimes I wonder if buying electronics online is a good idea '"
      ]
     },
     "execution_count": 82,
     "metadata": {},
     "output_type": "execute_result"
    }
   ],
   "source": [
    "review_no_spec_char[33] #Review after removing special characters"
   ]
  },
  {
   "cell_type": "markdown",
   "metadata": {},
   "source": [
    "### Removing Additional Whitespaces"
   ]
  },
  {
   "cell_type": "code",
   "execution_count": 83,
   "metadata": {},
   "outputs": [
    {
     "data": {
      "text/plain": [
       "'                  I am in love with my MacBook  Its smart  It never hangs  Its fast  Sound quality is commendable  The picture quality is just fabulous  Its worth money and time  I can run any programs in it  It has sofisticated software that can compile any language programs     '"
      ]
     },
     "execution_count": 83,
     "metadata": {},
     "output_type": "execute_result"
    }
   ],
   "source": [
    "review_no_whitespaces = []\n",
    "for c in review_no_spec_char:\n",
    "    c = re.sub(r'\\s+', ' ', c)\n",
    "    review_no_whitespaces.append(c)\n",
    "\n",
    "review_no_spec_char[59] #Review before removing additional whitespaces"
   ]
  },
  {
   "cell_type": "code",
   "execution_count": 85,
   "metadata": {},
   "outputs": [
    {
     "data": {
      "text/plain": [
       "' I am in love with my MacBook Its smart It never hangs Its fast Sound quality is commendable The picture quality is just fabulous Its worth money and time I can run any programs in it It has sofisticated software that can compile any language programs '"
      ]
     },
     "execution_count": 85,
     "metadata": {},
     "output_type": "execute_result"
    }
   ],
   "source": [
    "review_no_whitespaces[59] #Review after removing additional whitespaces"
   ]
  },
  {
   "cell_type": "markdown",
   "metadata": {},
   "source": [
    "### Comparison of reviews before and after RegEx"
   ]
  },
  {
   "cell_type": "code",
   "execution_count": 86,
   "metadata": {},
   "outputs": [
    {
     "data": {
      "text/html": [
       "<div>\n",
       "<style scoped>\n",
       "    .dataframe tbody tr th:only-of-type {\n",
       "        vertical-align: middle;\n",
       "    }\n",
       "\n",
       "    .dataframe tbody tr th {\n",
       "        vertical-align: top;\n",
       "    }\n",
       "\n",
       "    .dataframe thead th {\n",
       "        text-align: right;\n",
       "    }\n",
       "</style>\n",
       "<table border=\"1\" class=\"dataframe\">\n",
       "  <thead>\n",
       "    <tr style=\"text-align: right;\">\n",
       "      <th></th>\n",
       "      <th>reviews.rating</th>\n",
       "      <th>reviews.text</th>\n",
       "      <th>reviews.text after regex</th>\n",
       "    </tr>\n",
       "  </thead>\n",
       "  <tbody>\n",
       "    <tr>\n",
       "      <th>0</th>\n",
       "      <td>5</td>\n",
       "      <td>I have been a Macbook pro user for last 2 year...</td>\n",
       "      <td>I have been a Macbook pro user for last years ...</td>\n",
       "    </tr>\n",
       "    <tr>\n",
       "      <th>1</th>\n",
       "      <td>1</td>\n",
       "      <td>Writing the review after a two yr usage of mac...</td>\n",
       "      <td>Writing the review after a two yr usage of mac...</td>\n",
       "    </tr>\n",
       "    <tr>\n",
       "      <th>2</th>\n",
       "      <td>3</td>\n",
       "      <td>\\n\\n\\n\\n\\n\\n\\n\\n  \\n  \\n    I wanted to purcha...</td>\n",
       "      <td>I wanted to purchase the product in no cost E...</td>\n",
       "    </tr>\n",
       "    <tr>\n",
       "      <th>3</th>\n",
       "      <td>1</td>\n",
       "      <td>Very disappointed by the product quality. Afte...</td>\n",
       "      <td>Very disappointed by the product quality After...</td>\n",
       "    </tr>\n",
       "    <tr>\n",
       "      <th>4</th>\n",
       "      <td>2</td>\n",
       "      <td>Apple Products are usually good, perform well ...</td>\n",
       "      <td>Apple Products are usually good perform well a...</td>\n",
       "    </tr>\n",
       "    <tr>\n",
       "      <th>5</th>\n",
       "      <td>5</td>\n",
       "      <td>I got this for 52K during Amazon Sale. I can s...</td>\n",
       "      <td>I got this for K during Amazon Sale I can say ...</td>\n",
       "    </tr>\n",
       "    <tr>\n",
       "      <th>6</th>\n",
       "      <td>1</td>\n",
       "      <td>Don't buy for the pride or quality advertised....</td>\n",
       "      <td>Don t buy for the pride or quality advertised ...</td>\n",
       "    </tr>\n",
       "    <tr>\n",
       "      <th>7</th>\n",
       "      <td>2</td>\n",
       "      <td>bought in oct 2018 and it broke down in 7 jan ...</td>\n",
       "      <td>bought in oct and it broke down in jan and tel...</td>\n",
       "    </tr>\n",
       "    <tr>\n",
       "      <th>8</th>\n",
       "      <td>1</td>\n",
       "      <td>Not satisfied, purchased on Mar 2018, it was w...</td>\n",
       "      <td>Not satisfied purchased on Mar it was working ...</td>\n",
       "    </tr>\n",
       "    <tr>\n",
       "      <th>9</th>\n",
       "      <td>1</td>\n",
       "      <td>\\n\\n\\n\\n\\n\\n\\n\\n  \\n  \\n    charger not workin...</td>\n",
       "      <td>charger not workingservice center not availab...</td>\n",
       "    </tr>\n",
       "    <tr>\n",
       "      <th>10</th>\n",
       "      <td>1</td>\n",
       "      <td>\\n\\n\\n\\n\\n\\n\\n\\n  \\n  \\n    Hi, Think thousand...</td>\n",
       "      <td>Hi Think thousand time before buying One calm...</td>\n",
       "    </tr>\n",
       "    <tr>\n",
       "      <th>11</th>\n",
       "      <td>5</td>\n",
       "      <td>\\n\\n\\n\\n\\n\\n\\n\\n  \\n  \\n    MacBook Air is exc...</td>\n",
       "      <td>MacBook Air is excellent The build is super s...</td>\n",
       "    </tr>\n",
       "    <tr>\n",
       "      <th>12</th>\n",
       "      <td>4</td>\n",
       "      <td>Got the Apple Macbook air on amazon discount s...</td>\n",
       "      <td>Got the Apple Macbook air on amazon discount s...</td>\n",
       "    </tr>\n",
       "    <tr>\n",
       "      <th>13</th>\n",
       "      <td>4</td>\n",
       "      <td>I use this for music production and it works a...</td>\n",
       "      <td>I use this for music production and it works a...</td>\n",
       "    </tr>\n",
       "    <tr>\n",
       "      <th>14</th>\n",
       "      <td>3</td>\n",
       "      <td>\\n\\n\\n\\n\\n\\n\\n\\n  \\n  \\n    White line coming ...</td>\n",
       "      <td>White line coming on screen in just three mon...</td>\n",
       "    </tr>\n",
       "  </tbody>\n",
       "</table>\n",
       "</div>"
      ],
      "text/plain": [
       "    reviews.rating                                       reviews.text                           reviews.text after regex\n",
       "0                5  I have been a Macbook pro user for last 2 year...  I have been a Macbook pro user for last years ...\n",
       "1                1  Writing the review after a two yr usage of mac...  Writing the review after a two yr usage of mac...\n",
       "2                3  \\n\\n\\n\\n\\n\\n\\n\\n  \\n  \\n    I wanted to purcha...   I wanted to purchase the product in no cost E...\n",
       "3                1  Very disappointed by the product quality. Afte...  Very disappointed by the product quality After...\n",
       "4                2  Apple Products are usually good, perform well ...  Apple Products are usually good perform well a...\n",
       "5                5  I got this for 52K during Amazon Sale. I can s...  I got this for K during Amazon Sale I can say ...\n",
       "6                1  Don't buy for the pride or quality advertised....  Don t buy for the pride or quality advertised ...\n",
       "7                2  bought in oct 2018 and it broke down in 7 jan ...  bought in oct and it broke down in jan and tel...\n",
       "8                1  Not satisfied, purchased on Mar 2018, it was w...  Not satisfied purchased on Mar it was working ...\n",
       "9                1  \\n\\n\\n\\n\\n\\n\\n\\n  \\n  \\n    charger not workin...   charger not workingservice center not availab...\n",
       "10               1  \\n\\n\\n\\n\\n\\n\\n\\n  \\n  \\n    Hi, Think thousand...   Hi Think thousand time before buying One calm...\n",
       "11               5  \\n\\n\\n\\n\\n\\n\\n\\n  \\n  \\n    MacBook Air is exc...   MacBook Air is excellent The build is super s...\n",
       "12               4  Got the Apple Macbook air on amazon discount s...  Got the Apple Macbook air on amazon discount s...\n",
       "13               4  I use this for music production and it works a...  I use this for music production and it works a...\n",
       "14               3  \\n\\n\\n\\n\\n\\n\\n\\n  \\n  \\n    White line coming ...   White line coming on screen in just three mon..."
      ]
     },
     "execution_count": 86,
     "metadata": {},
     "output_type": "execute_result"
    }
   ],
   "source": [
    "processed_reviews = data.copy()\n",
    "processed_reviews['reviews.text after regex'] = review_no_whitespaces\n",
    "processed_reviews.head(15)"
   ]
  },
  {
   "cell_type": "code",
   "execution_count": 87,
   "metadata": {},
   "outputs": [],
   "source": [
    "del processed_reviews['reviews.text']"
   ]
  },
  {
   "cell_type": "markdown",
   "metadata": {},
   "source": [
    "### Removing Stopwords"
   ]
  },
  {
   "cell_type": "code",
   "execution_count": 88,
   "metadata": {},
   "outputs": [
    {
     "data": {
      "text/plain": [
       "'Got the Apple Macbook air on amazon discount sale The OS is smooth and is a breeze to work with Ships with macOS sierra but update is available to macOS mojave The design and build quality as you can expect from an apple product is top notch Excellen sound quality keyboard Cons GB may be low incase you want to have movies and media in your laptop You need to carry around a hard disk that kind of nullifies the advantage of having a light weight laptop Display resolution is not exactly upto the mark'"
      ]
     },
     "execution_count": 88,
     "metadata": {},
     "output_type": "execute_result"
    }
   ],
   "source": [
    "review_with_stopwords = list(processed_reviews['reviews.text after regex'].values)\n",
    "review_with_stopwords[12] #reviews containing stopwords"
   ]
  },
  {
   "cell_type": "code",
   "execution_count": 89,
   "metadata": {},
   "outputs": [
    {
     "name": "stderr",
     "output_type": "stream",
     "text": [
      "[nltk_data] Downloading package stopwords to\n",
      "[nltk_data]     /Users/sahildhatrak/nltk_data...\n",
      "[nltk_data]   Package stopwords is already up-to-date!\n"
     ]
    }
   ],
   "source": [
    "import nltk\n",
    "from nltk.corpus import stopwords\n",
    "nltk.download('stopwords')\n",
    "from nltk.tokenize import word_tokenize\n",
    "\n",
    "stopwords_eng = stopwords.words('english')\n",
    "stopwords_eng2 = stopwords_eng\n",
    "stopwords_eng2 = [x.capitalize() for x in stopwords_eng2]\n",
    "stopwords_final = stopwords_eng + stopwords_eng2\n",
    "stopwords_final.remove('very')\n",
    "stopwords_final.remove('Very')\n",
    "stopwords_final.remove('not')\n",
    "stopwords_final.remove('Not')"
   ]
  },
  {
   "cell_type": "code",
   "execution_count": 90,
   "metadata": {},
   "outputs": [
    {
     "data": {
      "text/plain": [
       "['i',\n",
       " 'me',\n",
       " 'my',\n",
       " 'myself',\n",
       " 'we',\n",
       " 'our',\n",
       " 'ours',\n",
       " 'ourselves',\n",
       " 'you',\n",
       " \"you're\",\n",
       " \"you've\",\n",
       " \"you'll\",\n",
       " \"you'd\",\n",
       " 'your',\n",
       " 'yours',\n",
       " 'yourself',\n",
       " 'yourselves',\n",
       " 'he',\n",
       " 'him',\n",
       " 'his',\n",
       " 'himself',\n",
       " 'she',\n",
       " \"she's\",\n",
       " 'her',\n",
       " 'hers',\n",
       " 'herself',\n",
       " 'it',\n",
       " \"it's\",\n",
       " 'its',\n",
       " 'itself',\n",
       " 'they',\n",
       " 'them',\n",
       " 'their',\n",
       " 'theirs',\n",
       " 'themselves',\n",
       " 'what',\n",
       " 'which',\n",
       " 'who',\n",
       " 'whom',\n",
       " 'this',\n",
       " 'that',\n",
       " \"that'll\",\n",
       " 'these',\n",
       " 'those',\n",
       " 'am',\n",
       " 'is',\n",
       " 'are',\n",
       " 'was',\n",
       " 'were',\n",
       " 'be',\n",
       " 'been',\n",
       " 'being',\n",
       " 'have',\n",
       " 'has',\n",
       " 'had',\n",
       " 'having',\n",
       " 'do',\n",
       " 'does',\n",
       " 'did',\n",
       " 'doing',\n",
       " 'a',\n",
       " 'an',\n",
       " 'the',\n",
       " 'and',\n",
       " 'but',\n",
       " 'if',\n",
       " 'or',\n",
       " 'because',\n",
       " 'as',\n",
       " 'until',\n",
       " 'while',\n",
       " 'of',\n",
       " 'at',\n",
       " 'by',\n",
       " 'for',\n",
       " 'with',\n",
       " 'about',\n",
       " 'against',\n",
       " 'between',\n",
       " 'into',\n",
       " 'through',\n",
       " 'during',\n",
       " 'before',\n",
       " 'after',\n",
       " 'above',\n",
       " 'below',\n",
       " 'to',\n",
       " 'from',\n",
       " 'up',\n",
       " 'down',\n",
       " 'in',\n",
       " 'out',\n",
       " 'on',\n",
       " 'off',\n",
       " 'over',\n",
       " 'under',\n",
       " 'again',\n",
       " 'further',\n",
       " 'then',\n",
       " 'once',\n",
       " 'here',\n",
       " 'there',\n",
       " 'when',\n",
       " 'where',\n",
       " 'why',\n",
       " 'how',\n",
       " 'all',\n",
       " 'any',\n",
       " 'both',\n",
       " 'each',\n",
       " 'few',\n",
       " 'more',\n",
       " 'most',\n",
       " 'other',\n",
       " 'some',\n",
       " 'such',\n",
       " 'no',\n",
       " 'nor',\n",
       " 'only',\n",
       " 'own',\n",
       " 'same',\n",
       " 'so',\n",
       " 'than',\n",
       " 'too',\n",
       " 's',\n",
       " 't',\n",
       " 'can',\n",
       " 'will',\n",
       " 'just',\n",
       " 'don',\n",
       " \"don't\",\n",
       " 'should',\n",
       " \"should've\",\n",
       " 'now',\n",
       " 'd',\n",
       " 'll',\n",
       " 'm',\n",
       " 'o',\n",
       " 're',\n",
       " 've',\n",
       " 'y',\n",
       " 'ain',\n",
       " 'aren',\n",
       " \"aren't\",\n",
       " 'couldn',\n",
       " \"couldn't\",\n",
       " 'didn',\n",
       " \"didn't\",\n",
       " 'doesn',\n",
       " \"doesn't\",\n",
       " 'hadn',\n",
       " \"hadn't\",\n",
       " 'hasn',\n",
       " \"hasn't\",\n",
       " 'haven',\n",
       " \"haven't\",\n",
       " 'isn',\n",
       " \"isn't\",\n",
       " 'ma',\n",
       " 'mightn',\n",
       " \"mightn't\",\n",
       " 'mustn',\n",
       " \"mustn't\",\n",
       " 'needn',\n",
       " \"needn't\",\n",
       " 'shan',\n",
       " \"shan't\",\n",
       " 'shouldn',\n",
       " \"shouldn't\",\n",
       " 'wasn',\n",
       " \"wasn't\",\n",
       " 'weren',\n",
       " \"weren't\",\n",
       " 'won',\n",
       " \"won't\",\n",
       " 'wouldn',\n",
       " \"wouldn't\",\n",
       " 'I',\n",
       " 'Me',\n",
       " 'My',\n",
       " 'Myself',\n",
       " 'We',\n",
       " 'Our',\n",
       " 'Ours',\n",
       " 'Ourselves',\n",
       " 'You',\n",
       " \"You're\",\n",
       " \"You've\",\n",
       " \"You'll\",\n",
       " \"You'd\",\n",
       " 'Your',\n",
       " 'Yours',\n",
       " 'Yourself',\n",
       " 'Yourselves',\n",
       " 'He',\n",
       " 'Him',\n",
       " 'His',\n",
       " 'Himself',\n",
       " 'She',\n",
       " \"She's\",\n",
       " 'Her',\n",
       " 'Hers',\n",
       " 'Herself',\n",
       " 'It',\n",
       " \"It's\",\n",
       " 'Its',\n",
       " 'Itself',\n",
       " 'They',\n",
       " 'Them',\n",
       " 'Their',\n",
       " 'Theirs',\n",
       " 'Themselves',\n",
       " 'What',\n",
       " 'Which',\n",
       " 'Who',\n",
       " 'Whom',\n",
       " 'This',\n",
       " 'That',\n",
       " \"That'll\",\n",
       " 'These',\n",
       " 'Those',\n",
       " 'Am',\n",
       " 'Is',\n",
       " 'Are',\n",
       " 'Was',\n",
       " 'Were',\n",
       " 'Be',\n",
       " 'Been',\n",
       " 'Being',\n",
       " 'Have',\n",
       " 'Has',\n",
       " 'Had',\n",
       " 'Having',\n",
       " 'Do',\n",
       " 'Does',\n",
       " 'Did',\n",
       " 'Doing',\n",
       " 'A',\n",
       " 'An',\n",
       " 'The',\n",
       " 'And',\n",
       " 'But',\n",
       " 'If',\n",
       " 'Or',\n",
       " 'Because',\n",
       " 'As',\n",
       " 'Until',\n",
       " 'While',\n",
       " 'Of',\n",
       " 'At',\n",
       " 'By',\n",
       " 'For',\n",
       " 'With',\n",
       " 'About',\n",
       " 'Against',\n",
       " 'Between',\n",
       " 'Into',\n",
       " 'Through',\n",
       " 'During',\n",
       " 'Before',\n",
       " 'After',\n",
       " 'Above',\n",
       " 'Below',\n",
       " 'To',\n",
       " 'From',\n",
       " 'Up',\n",
       " 'Down',\n",
       " 'In',\n",
       " 'Out',\n",
       " 'On',\n",
       " 'Off',\n",
       " 'Over',\n",
       " 'Under',\n",
       " 'Again',\n",
       " 'Further',\n",
       " 'Then',\n",
       " 'Once',\n",
       " 'Here',\n",
       " 'There',\n",
       " 'When',\n",
       " 'Where',\n",
       " 'Why',\n",
       " 'How',\n",
       " 'All',\n",
       " 'Any',\n",
       " 'Both',\n",
       " 'Each',\n",
       " 'Few',\n",
       " 'More',\n",
       " 'Most',\n",
       " 'Other',\n",
       " 'Some',\n",
       " 'Such',\n",
       " 'No',\n",
       " 'Nor',\n",
       " 'Only',\n",
       " 'Own',\n",
       " 'Same',\n",
       " 'So',\n",
       " 'Than',\n",
       " 'Too',\n",
       " 'S',\n",
       " 'T',\n",
       " 'Can',\n",
       " 'Will',\n",
       " 'Just',\n",
       " 'Don',\n",
       " \"Don't\",\n",
       " 'Should',\n",
       " \"Should've\",\n",
       " 'Now',\n",
       " 'D',\n",
       " 'Ll',\n",
       " 'M',\n",
       " 'O',\n",
       " 'Re',\n",
       " 'Ve',\n",
       " 'Y',\n",
       " 'Ain',\n",
       " 'Aren',\n",
       " \"Aren't\",\n",
       " 'Couldn',\n",
       " \"Couldn't\",\n",
       " 'Didn',\n",
       " \"Didn't\",\n",
       " 'Doesn',\n",
       " \"Doesn't\",\n",
       " 'Hadn',\n",
       " \"Hadn't\",\n",
       " 'Hasn',\n",
       " \"Hasn't\",\n",
       " 'Haven',\n",
       " \"Haven't\",\n",
       " 'Isn',\n",
       " \"Isn't\",\n",
       " 'Ma',\n",
       " 'Mightn',\n",
       " \"Mightn't\",\n",
       " 'Mustn',\n",
       " \"Mustn't\",\n",
       " 'Needn',\n",
       " \"Needn't\",\n",
       " 'Shan',\n",
       " \"Shan't\",\n",
       " 'Shouldn',\n",
       " \"Shouldn't\",\n",
       " 'Wasn',\n",
       " \"Wasn't\",\n",
       " 'Weren',\n",
       " \"Weren't\",\n",
       " 'Won',\n",
       " \"Won't\",\n",
       " 'Wouldn',\n",
       " \"Wouldn't\"]"
      ]
     },
     "execution_count": 90,
     "metadata": {},
     "output_type": "execute_result"
    }
   ],
   "source": [
    "stopwords_final #List of stopwords"
   ]
  },
  {
   "cell_type": "code",
   "execution_count": 91,
   "metadata": {},
   "outputs": [
    {
     "data": {
      "text/plain": [
       "'Got Apple Macbook air amazon discount sale OS smooth breeze work Ships macOS sierra update available macOS mojave design build quality expect apple product top notch Excellen sound quality keyboard Cons GB may low incase want movies media laptop need carry around hard disk kind nullifies advantage light weight laptop Display resolution not exactly upto mark '"
      ]
     },
     "execution_count": 91,
     "metadata": {},
     "output_type": "execute_result"
    }
   ],
   "source": [
    "review_without_stopwords = []\n",
    "y=[]\n",
    "for review in review_with_stopwords:\n",
    "    y=''\n",
    "    for word in review.split():\n",
    "        if word not in stopwords_final:\n",
    "            y+= word + ' '\n",
    "    review_without_stopwords.append(y)\n",
    "\n",
    "review_without_stopwords[12] #review without stopwords"
   ]
  },
  {
   "cell_type": "code",
   "execution_count": 92,
   "metadata": {},
   "outputs": [
    {
     "data": {
      "text/html": [
       "<div>\n",
       "<style scoped>\n",
       "    .dataframe tbody tr th:only-of-type {\n",
       "        vertical-align: middle;\n",
       "    }\n",
       "\n",
       "    .dataframe tbody tr th {\n",
       "        vertical-align: top;\n",
       "    }\n",
       "\n",
       "    .dataframe thead th {\n",
       "        text-align: right;\n",
       "    }\n",
       "</style>\n",
       "<table border=\"1\" class=\"dataframe\">\n",
       "  <thead>\n",
       "    <tr style=\"text-align: right;\">\n",
       "      <th></th>\n",
       "      <th>reviews.rating</th>\n",
       "      <th>reviews.text after regex</th>\n",
       "    </tr>\n",
       "  </thead>\n",
       "  <tbody>\n",
       "    <tr>\n",
       "      <th>0</th>\n",
       "      <td>5</td>\n",
       "      <td>I have been a Macbook pro user for last years ...</td>\n",
       "    </tr>\n",
       "    <tr>\n",
       "      <th>1</th>\n",
       "      <td>1</td>\n",
       "      <td>Writing the review after a two yr usage of mac...</td>\n",
       "    </tr>\n",
       "    <tr>\n",
       "      <th>2</th>\n",
       "      <td>3</td>\n",
       "      <td>I wanted to purchase the product in no cost E...</td>\n",
       "    </tr>\n",
       "    <tr>\n",
       "      <th>3</th>\n",
       "      <td>1</td>\n",
       "      <td>Very disappointed by the product quality After...</td>\n",
       "    </tr>\n",
       "    <tr>\n",
       "      <th>4</th>\n",
       "      <td>2</td>\n",
       "      <td>Apple Products are usually good perform well a...</td>\n",
       "    </tr>\n",
       "    <tr>\n",
       "      <th>5</th>\n",
       "      <td>5</td>\n",
       "      <td>I got this for K during Amazon Sale I can say ...</td>\n",
       "    </tr>\n",
       "    <tr>\n",
       "      <th>6</th>\n",
       "      <td>1</td>\n",
       "      <td>Don t buy for the pride or quality advertised ...</td>\n",
       "    </tr>\n",
       "    <tr>\n",
       "      <th>7</th>\n",
       "      <td>2</td>\n",
       "      <td>bought in oct and it broke down in jan and tel...</td>\n",
       "    </tr>\n",
       "    <tr>\n",
       "      <th>8</th>\n",
       "      <td>1</td>\n",
       "      <td>Not satisfied purchased on Mar it was working ...</td>\n",
       "    </tr>\n",
       "    <tr>\n",
       "      <th>9</th>\n",
       "      <td>1</td>\n",
       "      <td>charger not workingservice center not availab...</td>\n",
       "    </tr>\n",
       "  </tbody>\n",
       "</table>\n",
       "</div>"
      ],
      "text/plain": [
       "   reviews.rating                           reviews.text after regex\n",
       "0               5  I have been a Macbook pro user for last years ...\n",
       "1               1  Writing the review after a two yr usage of mac...\n",
       "2               3   I wanted to purchase the product in no cost E...\n",
       "3               1  Very disappointed by the product quality After...\n",
       "4               2  Apple Products are usually good perform well a...\n",
       "5               5  I got this for K during Amazon Sale I can say ...\n",
       "6               1  Don t buy for the pride or quality advertised ...\n",
       "7               2  bought in oct and it broke down in jan and tel...\n",
       "8               1  Not satisfied purchased on Mar it was working ...\n",
       "9               1   charger not workingservice center not availab..."
      ]
     },
     "execution_count": 92,
     "metadata": {},
     "output_type": "execute_result"
    }
   ],
   "source": [
    "processed_reviews.head(10)"
   ]
  },
  {
   "cell_type": "code",
   "execution_count": 93,
   "metadata": {},
   "outputs": [
    {
     "data": {
      "text/html": [
       "<div>\n",
       "<style scoped>\n",
       "    .dataframe tbody tr th:only-of-type {\n",
       "        vertical-align: middle;\n",
       "    }\n",
       "\n",
       "    .dataframe tbody tr th {\n",
       "        vertical-align: top;\n",
       "    }\n",
       "\n",
       "    .dataframe thead th {\n",
       "        text-align: right;\n",
       "    }\n",
       "</style>\n",
       "<table border=\"1\" class=\"dataframe\">\n",
       "  <thead>\n",
       "    <tr style=\"text-align: right;\">\n",
       "      <th></th>\n",
       "      <th>reviews.rating</th>\n",
       "      <th>reviews.text after regex</th>\n",
       "      <th>reviews.text after removing stopwords</th>\n",
       "    </tr>\n",
       "  </thead>\n",
       "  <tbody>\n",
       "    <tr>\n",
       "      <th>0</th>\n",
       "      <td>5</td>\n",
       "      <td>I have been a Macbook pro user for last years ...</td>\n",
       "      <td>Macbook pro user last years came across new Ma...</td>\n",
       "    </tr>\n",
       "    <tr>\n",
       "      <th>1</th>\n",
       "      <td>1</td>\n",
       "      <td>Writing the review after a two yr usage of mac...</td>\n",
       "      <td>Writing review two yr usage macbook Bought ver...</td>\n",
       "    </tr>\n",
       "    <tr>\n",
       "      <th>2</th>\n",
       "      <td>3</td>\n",
       "      <td>I wanted to purchase the product in no cost E...</td>\n",
       "      <td>wanted purchase product cost EMI displayed due...</td>\n",
       "    </tr>\n",
       "    <tr>\n",
       "      <th>3</th>\n",
       "      <td>1</td>\n",
       "      <td>Very disappointed by the product quality After...</td>\n",
       "      <td>Very disappointed product quality carefully us...</td>\n",
       "    </tr>\n",
       "    <tr>\n",
       "      <th>4</th>\n",
       "      <td>2</td>\n",
       "      <td>Apple Products are usually good perform well a...</td>\n",
       "      <td>Apple Products usually good perform well nonco...</td>\n",
       "    </tr>\n",
       "    <tr>\n",
       "      <th>5</th>\n",
       "      <td>5</td>\n",
       "      <td>I got this for K during Amazon Sale I can say ...</td>\n",
       "      <td>got K Amazon Sale say best budget friendly Mac...</td>\n",
       "    </tr>\n",
       "    <tr>\n",
       "      <th>6</th>\n",
       "      <td>1</td>\n",
       "      <td>Don t buy for the pride or quality advertised ...</td>\n",
       "      <td>buy pride quality advertised lapot keyboard fa...</td>\n",
       "    </tr>\n",
       "    <tr>\n",
       "      <th>7</th>\n",
       "      <td>2</td>\n",
       "      <td>bought in oct and it broke down in jan and tel...</td>\n",
       "      <td>bought oct broke jan tell afte spending much m...</td>\n",
       "    </tr>\n",
       "    <tr>\n",
       "      <th>8</th>\n",
       "      <td>1</td>\n",
       "      <td>Not satisfied purchased on Mar it was working ...</td>\n",
       "      <td>Not satisfied purchased Mar working well getti...</td>\n",
       "    </tr>\n",
       "    <tr>\n",
       "      <th>9</th>\n",
       "      <td>1</td>\n",
       "      <td>charger not workingservice center not availab...</td>\n",
       "      <td>charger not workingservice center not availabl...</td>\n",
       "    </tr>\n",
       "    <tr>\n",
       "      <th>10</th>\n",
       "      <td>1</td>\n",
       "      <td>Hi Think thousand time before buying One calm...</td>\n",
       "      <td>Hi Think thousand time buying One calm night c...</td>\n",
       "    </tr>\n",
       "    <tr>\n",
       "      <th>11</th>\n",
       "      <td>5</td>\n",
       "      <td>MacBook Air is excellent The build is super s...</td>\n",
       "      <td>MacBook Air excellent build super strong opera...</td>\n",
       "    </tr>\n",
       "    <tr>\n",
       "      <th>12</th>\n",
       "      <td>4</td>\n",
       "      <td>Got the Apple Macbook air on amazon discount s...</td>\n",
       "      <td>Got Apple Macbook air amazon discount sale OS ...</td>\n",
       "    </tr>\n",
       "    <tr>\n",
       "      <th>13</th>\n",
       "      <td>4</td>\n",
       "      <td>I use this for music production and it works a...</td>\n",
       "      <td>use music production works awesome however dis...</td>\n",
       "    </tr>\n",
       "    <tr>\n",
       "      <th>14</th>\n",
       "      <td>3</td>\n",
       "      <td>White line coming on screen in just three mon...</td>\n",
       "      <td>White line coming screen three months purchase...</td>\n",
       "    </tr>\n",
       "  </tbody>\n",
       "</table>\n",
       "</div>"
      ],
      "text/plain": [
       "    reviews.rating                           reviews.text after regex              reviews.text after removing stopwords\n",
       "0                5  I have been a Macbook pro user for last years ...  Macbook pro user last years came across new Ma...\n",
       "1                1  Writing the review after a two yr usage of mac...  Writing review two yr usage macbook Bought ver...\n",
       "2                3   I wanted to purchase the product in no cost E...  wanted purchase product cost EMI displayed due...\n",
       "3                1  Very disappointed by the product quality After...  Very disappointed product quality carefully us...\n",
       "4                2  Apple Products are usually good perform well a...  Apple Products usually good perform well nonco...\n",
       "5                5  I got this for K during Amazon Sale I can say ...  got K Amazon Sale say best budget friendly Mac...\n",
       "6                1  Don t buy for the pride or quality advertised ...  buy pride quality advertised lapot keyboard fa...\n",
       "7                2  bought in oct and it broke down in jan and tel...  bought oct broke jan tell afte spending much m...\n",
       "8                1  Not satisfied purchased on Mar it was working ...  Not satisfied purchased Mar working well getti...\n",
       "9                1   charger not workingservice center not availab...  charger not workingservice center not availabl...\n",
       "10               1   Hi Think thousand time before buying One calm...  Hi Think thousand time buying One calm night c...\n",
       "11               5   MacBook Air is excellent The build is super s...  MacBook Air excellent build super strong opera...\n",
       "12               4  Got the Apple Macbook air on amazon discount s...  Got Apple Macbook air amazon discount sale OS ...\n",
       "13               4  I use this for music production and it works a...  use music production works awesome however dis...\n",
       "14               3   White line coming on screen in just three mon...  White line coming screen three months purchase..."
      ]
     },
     "execution_count": 93,
     "metadata": {},
     "output_type": "execute_result"
    }
   ],
   "source": [
    "processed_reviews['reviews.text after removing stopwords'] = review_without_stopwords\n",
    "processed_reviews.head(15)\n"
   ]
  },
  {
   "cell_type": "markdown",
   "metadata": {},
   "source": [
    "### Lemmatization"
   ]
  },
  {
   "cell_type": "code",
   "execution_count": 94,
   "metadata": {},
   "outputs": [
    {
     "data": {
      "text/html": [
       "<div>\n",
       "<style scoped>\n",
       "    .dataframe tbody tr th:only-of-type {\n",
       "        vertical-align: middle;\n",
       "    }\n",
       "\n",
       "    .dataframe tbody tr th {\n",
       "        vertical-align: top;\n",
       "    }\n",
       "\n",
       "    .dataframe thead th {\n",
       "        text-align: right;\n",
       "    }\n",
       "</style>\n",
       "<table border=\"1\" class=\"dataframe\">\n",
       "  <thead>\n",
       "    <tr style=\"text-align: right;\">\n",
       "      <th></th>\n",
       "      <th>reviews.text after removing stopwords</th>\n",
       "      <th>reviews.text after lemmatization</th>\n",
       "    </tr>\n",
       "  </thead>\n",
       "  <tbody>\n",
       "    <tr>\n",
       "      <th>0</th>\n",
       "      <td>Macbook pro user last years came across new Ma...</td>\n",
       "      <td>Macbook pro user last years come across new Ma...</td>\n",
       "    </tr>\n",
       "    <tr>\n",
       "      <th>1</th>\n",
       "      <td>Writing review two yr usage macbook Bought ver...</td>\n",
       "      <td>Writing review two yr usage macbook Bought ver...</td>\n",
       "    </tr>\n",
       "    <tr>\n",
       "      <th>2</th>\n",
       "      <td>wanted purchase product cost EMI displayed due...</td>\n",
       "      <td>want purchase product cost EMI display due ama...</td>\n",
       "    </tr>\n",
       "    <tr>\n",
       "      <th>3</th>\n",
       "      <td>Very disappointed product quality carefully us...</td>\n",
       "      <td>Very disappoint product quality carefully use ...</td>\n",
       "    </tr>\n",
       "    <tr>\n",
       "      <th>4</th>\n",
       "      <td>Apple Products usually good perform well nonco...</td>\n",
       "      <td>Apple Products usually good perform well nonco...</td>\n",
       "    </tr>\n",
       "    <tr>\n",
       "      <th>5</th>\n",
       "      <td>got K Amazon Sale say best budget friendly Mac...</td>\n",
       "      <td>get K Amazon Sale say best budget friendly Mac...</td>\n",
       "    </tr>\n",
       "    <tr>\n",
       "      <th>6</th>\n",
       "      <td>buy pride quality advertised lapot keyboard fa...</td>\n",
       "      <td>buy pride quality advertise lapot keyboard fai...</td>\n",
       "    </tr>\n",
       "    <tr>\n",
       "      <th>7</th>\n",
       "      <td>bought oct broke jan tell afte spending much m...</td>\n",
       "      <td>buy oct break jan tell afte spend much money w...</td>\n",
       "    </tr>\n",
       "    <tr>\n",
       "      <th>8</th>\n",
       "      <td>Not satisfied purchased Mar working well getti...</td>\n",
       "      <td>Not satisfy purchase Mar work well get suddenl...</td>\n",
       "    </tr>\n",
       "    <tr>\n",
       "      <th>9</th>\n",
       "      <td>charger not workingservice center not availabl...</td>\n",
       "      <td>charger not workingservice center not availabl...</td>\n",
       "    </tr>\n",
       "    <tr>\n",
       "      <th>10</th>\n",
       "      <td>Hi Think thousand time buying One calm night c...</td>\n",
       "      <td>Hi Think thousand time buy One calm night cudd...</td>\n",
       "    </tr>\n",
       "    <tr>\n",
       "      <th>11</th>\n",
       "      <td>MacBook Air excellent build super strong opera...</td>\n",
       "      <td>MacBook Air excellent build super strong opera...</td>\n",
       "    </tr>\n",
       "    <tr>\n",
       "      <th>12</th>\n",
       "      <td>Got Apple Macbook air amazon discount sale OS ...</td>\n",
       "      <td>Got Apple Macbook air amazon discount sale OS ...</td>\n",
       "    </tr>\n",
       "    <tr>\n",
       "      <th>13</th>\n",
       "      <td>use music production works awesome however dis...</td>\n",
       "      <td>use music production work awesome however disp...</td>\n",
       "    </tr>\n",
       "    <tr>\n",
       "      <th>14</th>\n",
       "      <td>White line coming screen three months purchase...</td>\n",
       "      <td>White line come screen three months purchase a...</td>\n",
       "    </tr>\n",
       "  </tbody>\n",
       "</table>\n",
       "</div>"
      ],
      "text/plain": [
       "                reviews.text after removing stopwords                   reviews.text after lemmatization\n",
       "0   Macbook pro user last years came across new Ma...  Macbook pro user last years come across new Ma...\n",
       "1   Writing review two yr usage macbook Bought ver...  Writing review two yr usage macbook Bought ver...\n",
       "2   wanted purchase product cost EMI displayed due...  want purchase product cost EMI display due ama...\n",
       "3   Very disappointed product quality carefully us...  Very disappoint product quality carefully use ...\n",
       "4   Apple Products usually good perform well nonco...  Apple Products usually good perform well nonco...\n",
       "5   got K Amazon Sale say best budget friendly Mac...  get K Amazon Sale say best budget friendly Mac...\n",
       "6   buy pride quality advertised lapot keyboard fa...  buy pride quality advertise lapot keyboard fai...\n",
       "7   bought oct broke jan tell afte spending much m...  buy oct break jan tell afte spend much money w...\n",
       "8   Not satisfied purchased Mar working well getti...  Not satisfy purchase Mar work well get suddenl...\n",
       "9   charger not workingservice center not availabl...  charger not workingservice center not availabl...\n",
       "10  Hi Think thousand time buying One calm night c...  Hi Think thousand time buy One calm night cudd...\n",
       "11  MacBook Air excellent build super strong opera...  MacBook Air excellent build super strong opera...\n",
       "12  Got Apple Macbook air amazon discount sale OS ...  Got Apple Macbook air amazon discount sale OS ...\n",
       "13  use music production works awesome however dis...  use music production work awesome however disp...\n",
       "14  White line coming screen three months purchase...  White line come screen three months purchase a..."
      ]
     },
     "execution_count": 94,
     "metadata": {},
     "output_type": "execute_result"
    }
   ],
   "source": [
    "from nltk.stem import WordNetLemmatizer \n",
    "from nltk.tokenize import WhitespaceTokenizer\n",
    "\n",
    "lemmatizer = WordNetLemmatizer()\n",
    "w_tokenizer = WhitespaceTokenizer()\n",
    "\n",
    "def lemmatize_text(text):\n",
    "    return [lemmatizer.lemmatize(w, pos=\"v\") for w in w_tokenizer.tokenize(text)]\n",
    "\n",
    "after_lemma = processed_reviews['reviews.text after removing stopwords'].apply(lemmatize_text)\n",
    "after_lemma = after_lemma.str.join(' ')\n",
    "processed_reviews['reviews.text after lemmatization'] = after_lemma\n",
    "processed_reviews[['reviews.text after removing stopwords', 'reviews.text after lemmatization']].head(15)"
   ]
  },
  {
   "cell_type": "markdown",
   "metadata": {},
   "source": [
    "# Feature Extraction using TF-IDF"
   ]
  },
  {
   "cell_type": "code",
   "execution_count": 95,
   "metadata": {},
   "outputs": [],
   "source": [
    "from sklearn.feature_extraction.text import CountVectorizer, TfidfVectorizer"
   ]
  },
  {
   "cell_type": "code",
   "execution_count": 96,
   "metadata": {},
   "outputs": [
    {
     "data": {
      "text/plain": [
       "array([0.        , 0.        , 0.        , 0.        , 0.        ,\n",
       "       0.        , 0.        , 0.        , 0.        , 0.        ,\n",
       "       0.        , 0.25292215, 0.0734704 , 0.        , 0.        ,\n",
       "       0.        , 0.        , 0.06444468, 0.06225626, 0.0739517 ,\n",
       "       0.        , 0.        , 0.08638741, 0.        , 0.1716529 ,\n",
       "       0.05581772, 0.        , 0.        , 0.        , 0.        ,\n",
       "       0.        , 0.04473784, 0.11697071, 0.04989792, 0.        ,\n",
       "       0.        , 0.        , 0.        , 0.        , 0.        ,\n",
       "       0.        , 0.        , 0.07985313, 0.        , 0.07848606,\n",
       "       0.        , 0.        , 0.        , 0.1325524 , 0.32242632,\n",
       "       0.        , 0.        , 0.        , 0.        , 0.        ,\n",
       "       0.        , 0.        , 0.        , 0.06218546, 0.        ,\n",
       "       0.        , 0.        , 0.        , 0.        , 0.        ,\n",
       "       0.        , 0.        , 0.        , 0.07345284, 0.        ,\n",
       "       0.        , 0.        , 0.        , 0.        , 0.        ,\n",
       "       0.        , 0.        , 0.        , 0.        , 0.        ,\n",
       "       0.        , 0.        , 0.        , 0.        , 0.        ,\n",
       "       0.07236651, 0.        , 0.        , 0.07212198, 0.        ,\n",
       "       0.06043642, 0.        , 0.        , 0.        , 0.        ,\n",
       "       0.06565361, 0.        , 0.        , 0.        , 0.        ,\n",
       "       0.        , 0.08867446, 0.        , 0.        , 0.05449472,\n",
       "       0.0706024 , 0.        , 0.        , 0.        , 0.        ,\n",
       "       0.        , 0.        , 0.06687627, 0.        , 0.        ,\n",
       "       0.08142992, 0.07946885, 0.        , 0.        , 0.        ,\n",
       "       0.        , 0.        , 0.        , 0.        , 0.        ,\n",
       "       0.0558477 , 0.        , 0.        , 0.32664774, 0.06407392,\n",
       "       0.07348797, 0.        , 0.30907362, 0.        , 0.        ,\n",
       "       0.        , 0.        , 0.        , 0.07609363, 0.        ,\n",
       "       0.20451593, 0.38015954, 0.        , 0.06217663, 0.        ,\n",
       "       0.        , 0.0804604 , 0.        , 0.        , 0.        ,\n",
       "       0.        , 0.        , 0.        , 0.05781555, 0.        ,\n",
       "       0.        , 0.05390847, 0.        , 0.        , 0.06174975,\n",
       "       0.        , 0.        , 0.        , 0.24302214, 0.0742806 ,\n",
       "       0.07303377, 0.08037991, 0.        , 0.        , 0.        ,\n",
       "       0.        , 0.        , 0.        , 0.        , 0.        ,\n",
       "       0.        , 0.        , 0.12611181, 0.        , 0.        ,\n",
       "       0.06861023, 0.        , 0.        , 0.        , 0.        ,\n",
       "       0.        , 0.        , 0.07877476, 0.16240643, 0.05939089,\n",
       "       0.        , 0.        , 0.        , 0.        , 0.        ,\n",
       "       0.08075898, 0.        , 0.        , 0.        , 0.        ,\n",
       "       0.04403356, 0.        , 0.        , 0.        , 0.0560348 ,\n",
       "       0.        , 0.        , 0.        , 0.        , 0.        ,\n",
       "       0.        , 0.        , 0.        , 0.        , 0.        ,\n",
       "       0.06659659, 0.        , 0.        , 0.        , 0.        ,\n",
       "       0.        , 0.        , 0.        , 0.        , 0.07040295,\n",
       "       0.        , 0.        , 0.        , 0.        , 0.        ,\n",
       "       0.        , 0.        , 0.        , 0.08168877, 0.        ,\n",
       "       0.        , 0.08224902, 0.        , 0.08295385, 0.        ,\n",
       "       0.        , 0.        , 0.07431756, 0.        , 0.        ,\n",
       "       0.        , 0.        , 0.        , 0.        , 0.        ,\n",
       "       0.        , 0.        , 0.        , 0.        , 0.        ,\n",
       "       0.        , 0.        , 0.        , 0.        , 0.        ,\n",
       "       0.        , 0.        , 0.        , 0.        , 0.08227904,\n",
       "       0.        , 0.        , 0.        , 0.        , 0.        ,\n",
       "       0.        , 0.        , 0.        , 0.07985313, 0.15949954,\n",
       "       0.        , 0.06813386, 0.        , 0.08126391, 0.        ,\n",
       "       0.        , 0.        , 0.        , 0.        , 0.        ,\n",
       "       0.        , 0.        , 0.        , 0.        , 0.        ,\n",
       "       0.04569848, 0.        , 0.        , 0.        , 0.        ,\n",
       "       0.        , 0.        , 0.        , 0.06866257, 0.        ])"
      ]
     },
     "execution_count": 96,
     "metadata": {},
     "output_type": "execute_result"
    }
   ],
   "source": [
    "X = list(processed_reviews['reviews.text after lemmatization'])\n",
    "y = processed_reviews['reviews.rating']\n",
    "y = y.astype(int)\n",
    "count_vectorizer = CountVectorizer(max_features=300).fit(X)\n",
    "vectorizer = TfidfVectorizer(max_features=300)\n",
    "processed_features = vectorizer.fit_transform(X).toarray()\n",
    "\n",
    "# Review processed\n",
    "processed_features[0] #Review in the form of a vector"
   ]
  },
  {
   "cell_type": "code",
   "execution_count": 97,
   "metadata": {},
   "outputs": [
    {
     "name": "stdout",
     "output_type": "stream",
     "text": [
      "Word: macbook      - Count: 141        - TF-IDF: 4.633890517692713\n",
      "Word: user         - Count: 276        - TF-IDF: 4.15253108468713\n",
      "Word: last         - Count: 129        - TF-IDF: 3.905091128513783\n",
      "Word: years        - Count: 298        - TF-IDF: 4.184753911798944\n",
      "Word: come         - Count: 48         - TF-IDF: 4.039312890513326\n",
      "Word: new          - Count: 159        - TF-IDF: 3.7634406114507555\n",
      "Word: get          - Count: 101        - TF-IDF: 2.7022058718752455\n",
      "Word: review       - Count: 215        - TF-IDF: 4.058839312863681\n",
      "Word: first        - Count: 95         - TF-IDF: 4.001367958949203\n",
      "Word: compare      - Count: 49         - TF-IDF: 3.930161227802231\n"
     ]
    }
   ],
   "source": [
    "i = 0\n",
    "for k, v in count_vectorizer.vocabulary_.items():\n",
    "    tfidf = vectorizer.idf_[count_vectorizer.vocabulary_[k]]\n",
    "    print(f'Word: {k:<12} - Count: {v:<10} - TF-IDF: {tfidf}')\n",
    "    i += 1\n",
    "    if i == 10:\n",
    "        break\n",
    "\n",
    "#Words with their Count value and TF-IDF value"
   ]
  },
  {
   "cell_type": "markdown",
   "metadata": {},
   "source": [
    "# Building a Pre-Processing Pipeline"
   ]
  },
  {
   "cell_type": "code",
   "execution_count": 98,
   "metadata": {},
   "outputs": [],
   "source": [
    "from sklearn.base import BaseEstimator, TransformerMixin\n",
    "from scipy.sparse import csr_matrix\n",
    "from sklearn.pipeline import Pipeline"
   ]
  },
  {
   "cell_type": "code",
   "execution_count": 99,
   "metadata": {},
   "outputs": [],
   "source": [
    "class ApplyRegex(BaseEstimator, TransformerMixin):\n",
    "    \n",
    "    def __init__(self, break_line=True, carriage_return=True, numbers=True, number_replacing='', \n",
    "                 special_char=True, additional_spaces=True):\n",
    "        self.break_line = break_line\n",
    "        self.carriage_return = carriage_return\n",
    "        self.numbers = numbers\n",
    "        self.number_replacing = number_replacing\n",
    "        self.special_char = special_char\n",
    "        self.additional_spaces = additional_spaces\n",
    "        \n",
    "    def fit(self, X, y=None):\n",
    "        return self\n",
    "    \n",
    "    def transform(self, X, y=None):\n",
    "        X_transformed = []\n",
    "        for c in X:\n",
    "            if self.break_line:\n",
    "                c = re.sub('\\n', ' ', c)\n",
    "            if self.carriage_return:\n",
    "                c = re.sub('\\r', ' ', c)\n",
    "            if self.numbers:\n",
    "                c = re.sub(r'\\d+(?:\\.\\d*(?:[eE]\\d+))?', self.number_replacing , c)\n",
    "            if self.special_char:\n",
    "                c = re.sub(r'R\\$', ' ', c)\n",
    "                c = re.sub(r'\\W', ' ', c)\n",
    "            if self.additional_spaces:\n",
    "                c = re.sub(r'\\s+', ' ', c)\n",
    "            X_transformed.append(c)\n",
    "        return X_transformed\n",
    "    "
   ]
  },
  {
   "cell_type": "code",
   "execution_count": 100,
   "metadata": {},
   "outputs": [],
   "source": [
    "class StopWordsRemoval(BaseEstimator, TransformerMixin):\n",
    "    \n",
    "    def fit(self, X, y=None):\n",
    "        return self\n",
    "    \n",
    "    def stopword_removal(self):\n",
    "        y=[]\n",
    "        review_no_stopword = []\n",
    "        for idx, review in enumerate(self) :\n",
    "            try:\n",
    "                y=''\n",
    "                for word in review.split():\n",
    "                    if word not in stopwords_final:\n",
    "                        y+= word + ' '\n",
    "                review_no_stopword.append(y)\n",
    "            except:\n",
    "                print(idx)\n",
    "        return review_no_stopword\n",
    "        \n",
    "    def transform(self, X, y=None): \n",
    "        X_transformed = StopWordsRemoval.stopword_removal(X)\n",
    "        return X_transformed\n"
   ]
  },
  {
   "cell_type": "code",
   "execution_count": 101,
   "metadata": {},
   "outputs": [],
   "source": [
    "class TextLemmatization(BaseEstimator, TransformerMixin):\n",
    "\n",
    "    def fit(self, X, y=None):\n",
    "        return self\n",
    "    \n",
    "    def lemmatize_text(text):\n",
    "        return ' '.join(lemmatizer.lemmatize(w, pos=\"v\") for w in w_tokenizer.tokenize(text))\n",
    "\n",
    "\n",
    "    def transform(self, X, y=None):\n",
    "        X_transformed = list(map(lambda c: TextLemmatization.lemmatize_text(c), X))\n",
    "        return X_transformed\n"
   ]
  },
  {
   "cell_type": "code",
   "execution_count": 102,
   "metadata": {},
   "outputs": [],
   "source": [
    "preprocess_pipeline = Pipeline([\n",
    "    ('regex_cleaner', ApplyRegex()),\n",
    "    ('stopwords_remover', StopWordsRemoval()),\n",
    "    ('lemmatization', TextLemmatization()),\n",
    "])"
   ]
  },
  {
   "cell_type": "markdown",
   "metadata": {},
   "source": [
    "# Applying a Pipeline"
   ]
  },
  {
   "cell_type": "code",
   "execution_count": 119,
   "metadata": {},
   "outputs": [
    {
     "data": {
      "text/plain": [
       "array([0, 0, 0, 0, 0, 0, 0, 0, 0, 0, 0, 5, 1, 0, 0, 0, 0, 1, 1, 1, 0, 0,\n",
       "       2, 0, 3, 1, 0, 0, 0, 0, 0, 1, 2, 1, 0, 0, 0, 0, 0, 0, 0, 0, 1, 0,\n",
       "       1, 0, 0, 0, 2, 5, 0, 0, 0, 0, 0, 0, 0, 0, 1, 0, 0, 0, 0, 0, 0, 0,\n",
       "       0, 0, 1, 0, 0, 0, 0, 0, 0, 0, 0, 0, 0, 0, 0, 0, 0, 0, 0, 1, 0, 0,\n",
       "       1, 0, 1, 0, 0, 0, 0, 1, 0, 0, 0, 0, 0, 2, 0, 0, 1, 2, 0, 0, 0, 0,\n",
       "       0, 0, 1, 0, 0, 1, 1, 0, 0, 0, 0, 0, 0, 0, 0, 1, 0, 0, 5, 1, 1, 0,\n",
       "       4, 0, 0, 0, 0, 0, 1, 0, 3, 5, 0, 1, 0, 0, 1, 0, 0, 0, 0, 0, 0, 1,\n",
       "       0, 0, 1, 0, 0, 1, 0, 0, 0, 3, 1, 2, 1, 0, 0, 0, 0, 0, 0, 0, 0, 0,\n",
       "       0, 2, 0, 0, 1, 0, 0, 0, 0, 0, 0, 1, 2, 1, 0, 0, 0, 0, 0, 1, 0, 0,\n",
       "       0, 0, 1, 0, 0, 0, 1, 0, 0, 0, 0, 0, 0, 0, 0, 0, 0, 1, 0, 0, 0, 0,\n",
       "       0, 0, 0, 0, 1, 0, 0, 0, 0, 0, 0, 0, 0, 1, 0, 0, 1, 0, 1, 0, 0, 0,\n",
       "       1, 0, 0, 0, 0, 0, 0, 0, 0, 0, 0, 0, 0, 0, 0, 0, 0, 0, 0, 0, 0, 0,\n",
       "       1, 0, 0, 0, 0, 0, 0, 0, 0, 1, 2, 0, 1, 0, 2, 0, 0, 0, 0, 0, 0, 0,\n",
       "       0, 0, 0, 0, 1, 0, 0, 0, 0, 0, 0, 0, 1, 0])"
      ]
     },
     "execution_count": 119,
     "metadata": {},
     "output_type": "execute_result"
    }
   ],
   "source": [
    "X = data['reviews.text']\n",
    "y = data['reviews.rating'].values\n",
    "y = y.astype(int)\n",
    "\n",
    "X_preprocessed = preprocess_pipeline.fit_transform(X)\n",
    "reviews_vector = list(map(lambda c: nltk.word_tokenize(c), X_preprocessed))\n",
    "vectorizer = CountVectorizer(max_features=300)\n",
    "X_transformed = vectorizer.fit_transform(X_preprocessed).toarray()\n",
    "\n",
    "X_transformed[0] #Review in the form of a vector"
   ]
  },
  {
   "cell_type": "markdown",
   "metadata": {},
   "source": [
    "# Data Exploaration"
   ]
  },
  {
   "cell_type": "code",
   "execution_count": 104,
   "metadata": {},
   "outputs": [
    {
     "data": {
      "image/png": "[encoded data removed]",
      "text/plain": [
       "<Figure size 1152x864 with 1 Axes>"
      ]
     },
     "metadata": {
      "needs_background": "light"
     },
     "output_type": "display_data"
    }
   ],
   "source": [
    "count = processed_reviews[\"reviews.rating\"].value_counts().index\n",
    "plt.subplots(1,1,figsize=(16,12))\n",
    "plt.subplot(2,1,1)\n",
    "processed_reviews[\"reviews.rating\"].value_counts().sort_index().plot(kind=\"bar\", title=\"Rating Frequency\")\n",
    "plt.xticks(rotation=0)\n",
    "plt.xlabel('Ratings')\n",
    "plt.ylabel('No. of Reviews')\n",
    "plt.show()"
   ]
  },
  {
   "cell_type": "markdown",
   "metadata": {},
   "source": [
    "# Labelling and Splitting of Data"
   ]
  },
  {
   "cell_type": "code",
   "execution_count": 105,
   "metadata": {},
   "outputs": [],
   "source": [
    "bin_edges = [0, 2, 3, 5]\n",
    "bin_names = ['Negative', 'Neutral', 'Positive']\n",
    "processed_reviews['class'] = pd.cut(processed_reviews['reviews.rating'], bins=bin_edges, labels=bin_names)"
   ]
  },
  {
   "cell_type": "code",
   "execution_count": 106,
   "metadata": {},
   "outputs": [],
   "source": [
    "from sklearn.model_selection import train_test_split\n",
    "\n",
    "X_train, X_test, y_train, y_test = train_test_split(X_transformed, processed_reviews['class'] , test_size=.20, random_state=42)"
   ]
  },
  {
   "cell_type": "markdown",
   "metadata": {},
   "source": [
    "# Training and Evaluating the Model"
   ]
  },
  {
   "cell_type": "code",
   "execution_count": 107,
   "metadata": {},
   "outputs": [],
   "source": [
    "from sklearn.linear_model import LogisticRegression\n",
    "from sklearn.model_selection import cross_val_score, cross_val_predict\n",
    "from sklearn.metrics import confusion_matrix, accuracy_score, precision_score, recall_score, f1_score, plot_confusion_matrix\n",
    "from scipy.sparse import csr_matrix"
   ]
  },
  {
   "cell_type": "code",
   "execution_count": 108,
   "metadata": {},
   "outputs": [
    {
     "name": "stderr",
     "output_type": "stream",
     "text": [
      "[Parallel(n_jobs=1)]: Using backend SequentialBackend with 1 concurrent workers.\n",
      "[Parallel(n_jobs=1)]: Done   1 out of   1 | elapsed:    6.8s finished\n"
     ]
    }
   ],
   "source": [
    "log_reg = LogisticRegression(max_iter = 200, multi_class = 'auto', solver = 'newton-cg', verbose=1)\n",
    "log_reg.fit(X_train, y_train)\n",
    "predictions = log_reg.predict(X_test)"
   ]
  },
  {
   "cell_type": "code",
   "execution_count": 109,
   "metadata": {},
   "outputs": [
    {
     "name": "stdout",
     "output_type": "stream",
     "text": [
      "              precision    recall  f1-score   support\n",
      "\n",
      "    Negative       0.86      0.82      0.84      1741\n",
      "     Neutral       0.29      0.06      0.10       335\n",
      "    Positive       0.88      0.96      0.92      3974\n",
      "\n",
      "    accuracy                           0.87      6050\n",
      "   macro avg       0.68      0.61      0.62      6050\n",
      "weighted avg       0.84      0.87      0.85      6050\n",
      "\n"
     ]
    }
   ],
   "source": [
    "# Evaluating results\n",
    "\n",
    "from sklearn.metrics import classification_report\n",
    "print(classification_report(y_test,predictions))"
   ]
  },
  {
   "cell_type": "markdown",
   "metadata": {},
   "source": [
    "# Class Prediction"
   ]
  },
  {
   "cell_type": "code",
   "execution_count": 110,
   "metadata": {},
   "outputs": [],
   "source": [
    "example = ['Bought in 2017. It is a bad product. The battery life sucks.' ]\n",
    "example_preprocessed = preprocess_pipeline.fit_transform(example)\n",
    "\n",
    "# Vectorizing\n",
    "example_transformed = vectorizer.transform(example_preprocessed).toarray()\n",
    "\n",
    "# Communicating\n",
    "example_pred = log_reg.predict(example_transformed)"
   ]
  },
  {
   "cell_type": "code",
   "execution_count": 111,
   "metadata": {},
   "outputs": [
    {
     "data": {
      "text/plain": [
       "array(['Negative'], dtype=object)"
      ]
     },
     "execution_count": 111,
     "metadata": {},
     "output_type": "execute_result"
    }
   ],
   "source": [
    "example_pred #Example belongs to which class"
   ]
  },
  {
   "cell_type": "markdown",
   "metadata": {},
   "source": [
    "# Confusion Matrix"
   ]
  },
  {
   "cell_type": "code",
   "execution_count": 112,
   "metadata": {},
   "outputs": [
    {
     "data": {
      "text/plain": [
       "array([[1424,   27,  290],\n",
       "       [  98,   20,  217],\n",
       "       [ 139,   23, 3812]])"
      ]
     },
     "execution_count": 112,
     "metadata": {},
     "output_type": "execute_result"
    }
   ],
   "source": [
    "from sklearn import metrics\n",
    "cnf_matrix = metrics.confusion_matrix(y_test, predictions)\n",
    "cnf_matrix"
   ]
  },
  {
   "cell_type": "code",
   "execution_count": 113,
   "metadata": {},
   "outputs": [
    {
     "data": {
      "text/plain": [
       "Text(0.5, 257.44, 'Predicted label')"
      ]
     },
     "execution_count": 113,
     "metadata": {},
     "output_type": "execute_result"
    },
    {
     "data": {
      "image/png": "[encoded data removed]",
      "text/plain": [
       "<Figure size 432x288 with 2 Axes>"
      ]
     },
     "metadata": {
      "needs_background": "light"
     },
     "output_type": "display_data"
    }
   ],
   "source": [
    "class_names=['Negative', 'Neutral', 'Positive'] # name  of classes\n",
    "fig, ax = plt.subplots()\n",
    "tick_marks = np.arange(len(class_names))\n",
    "plt.xticks(tick_marks, class_names)\n",
    "plt.yticks(tick_marks, class_names)\n",
    "# create heatmap\n",
    "sb.heatmap(pd.DataFrame(cnf_matrix), annot=True, cmap=\"YlGnBu\" ,fmt='g')\n",
    "ax.xaxis.set_label_position(\"top\")\n",
    "plt.tight_layout()\n",
    "plt.title('Confusion matrix', y=1.1)\n",
    "plt.ylabel('Actual label')\n",
    "plt.xlabel('Predicted label')"
   ]
  },
  {
   "cell_type": "markdown",
   "metadata": {},
   "source": [
    "# Sentiment Score Predictor"
   ]
  },
  {
   "cell_type": "code",
   "execution_count": 114,
   "metadata": {},
   "outputs": [],
   "source": [
    "import colored\n",
    "def SentimentScorePredictor(text):\n",
    "    text_preprocessed = preprocess_pipeline.fit_transform(text)\n",
    "    text_transformed = vectorizer.transform(text_preprocessed).toarray()\n",
    "    review_proba = log_reg.predict_proba(text_transformed)\n",
    "    sentiment_score = round(review_proba[0,2]*100,2)\n",
    "    sentiment_score = sentiment_score.item()\n",
    "    if(sentiment_score <= 30):\n",
    "        sentiment_score = str(sentiment_score)\n",
    "        print(colored.fg(\"red\") + sentiment_score)\n",
    "    elif(30 < sentiment_score < 70):\n",
    "        sentiment_score = str(sentiment_score)\n",
    "        print(colored.fg(\"yellow\") + sentiment_score)\n",
    "    elif(70 <= sentiment_score <= 100):\n",
    "        sentiment_score = str(sentiment_score)\n",
    "        print(colored.fg(\"green\") + sentiment_score)"
   ]
  },
  {
   "cell_type": "markdown",
   "metadata": {},
   "source": [
    "### \"Bought in 2017. It is a good product and I loved it.\""
   ]
  },
  {
   "cell_type": "code",
   "execution_count": 115,
   "metadata": {},
   "outputs": [
    {
     "name": "stdout",
     "output_type": "stream",
     "text": [
      "\u001b[38;5;2m97.8\n"
     ]
    }
   ],
   "source": [
    "SentimentScorePredictor(['Bought in 2017. It is a good product and I loved it.'])"
   ]
  },
  {
   "cell_type": "markdown",
   "metadata": {},
   "source": [
    "### \"Bought in 2017. It is a good product.\""
   ]
  },
  {
   "cell_type": "code",
   "execution_count": 116,
   "metadata": {},
   "outputs": [
    {
     "name": "stdout",
     "output_type": "stream",
     "text": [
      "\u001b[38;5;2m84.95\n"
     ]
    }
   ],
   "source": [
    "SentimentScorePredictor(['Bought in 2017. It is a good product.'])"
   ]
  },
  {
   "cell_type": "markdown",
   "metadata": {},
   "source": [
    "### \"Bought in 2017. It is an okay product.\""
   ]
  },
  {
   "cell_type": "code",
   "execution_count": 117,
   "metadata": {},
   "outputs": [
    {
     "name": "stdout",
     "output_type": "stream",
     "text": [
      "\u001b[38;5;3m60.17\n"
     ]
    }
   ],
   "source": [
    "SentimentScorePredictor(['Bought in 2017. It is an okay product.'])"
   ]
  },
  {
   "cell_type": "markdown",
   "metadata": {},
   "source": [
    "### \"Bought in 2017. It is a bad product. The battery life sucks.\""
   ]
  },
  {
   "cell_type": "code",
   "execution_count": 118,
   "metadata": {},
   "outputs": [
    {
     "name": "stdout",
     "output_type": "stream",
     "text": [
      "\u001b[38;5;1m26.14\n"
     ]
    }
   ],
   "source": [
    "SentimentScorePredictor(['Bought in 2017. It is a bad product.'])"
   ]
  }
 ],
 "metadata": {
  "kernelspec": {
   "display_name": "Python 3",
   "language": "python",
   "name": "python3"
  },
  "language_info": {
   "codemirror_mode": {
    "name": "ipython",
    "version": 3
   },
   "file_extension": ".py",
   "mimetype": "text/x-python",
   "name": "python",
   "nbconvert_exporter": "python",
   "pygments_lexer": "ipython3",
   "version": "3.7.6"
  }
 },
 "nbformat": 4,
 "nbformat_minor": 4
}
